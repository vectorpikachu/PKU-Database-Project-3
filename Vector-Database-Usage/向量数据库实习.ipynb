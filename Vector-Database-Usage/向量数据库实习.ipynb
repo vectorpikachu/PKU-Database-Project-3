{
 "cells": [
  {
   "cell_type": "markdown",
   "id": "3480042b",
   "metadata": {},
   "source": [
    "### 数据库schema：\n",
    "数据库sentence.db schema如下：\n",
    "\n",
    "sentence(sid,sentence1, sentence2, similar_score,sen1_vector,sen2_vector,vecSim_score)\n",
    "\n",
    "分别是句子id，句子1，句子2，句子相似度得分，句子1嵌入向量，句子2嵌入向量，向量相似度得分）\n",
    "\n",
    "### 任务要求：\n",
    "\n",
    "调用嵌入模型：可以使用sqlite-vss或sqlite-vec或调用本地中文嵌入模型（huggingface等拉取），对每个数据库中每个元组的两个句子分别进行向量嵌入，并计算向量相似度得分。更新数据库sentence.db的后三列。\n",
    "\n",
    "### 输出要求：\n",
    "\n",
    "按照这样的方法：\n",
    "\n",
    "```python\n",
    "df = pd.read_sql_query(\"\"\"\n",
    "    SELECT sid, sentence1, sentence2, similar_score, sen1_vector, sen2_vector,vecSim_score FROM sentence\n",
    "\"\"\", conn)\n",
    "print(df.head(20))\n",
    "```\n",
    "输出数据库的前20个元组。但请注意，助教评分时可能会运行你的代码，抽查其他元组结果。"
   ]
  },
  {
   "cell_type": "code",
   "execution_count": 5,
   "id": "c183a864",
   "metadata": {},
   "outputs": [],
   "source": [
    "import sqlite3\n",
    "import os\n",
    "import pandas as pd"
   ]
  },
  {
   "cell_type": "code",
   "execution_count": null,
   "id": "0297b6ed",
   "metadata": {},
   "outputs": [],
   "source": [
    "# 文件路径修改成自己的文件路径\n",
    "DATA_FILE = 'sts-b-train.txt'\n",
    "DB_FILE = 'sentence.db'\n",
    "\n",
    "if os.path.exists(DB_FILE):\n",
    "    os.remove(DB_FILE)\n",
    "\n",
    "conn = sqlite3.connect(DB_FILE)\n",
    "cursor = conn.cursor()"
   ]
  },
  {
   "cell_type": "code",
   "execution_count": 3,
   "id": "0492109b",
   "metadata": {},
   "outputs": [],
   "source": [
    "cursor.execute('''\n",
    "CREATE TABLE sentence (\n",
    "    sid INTEGER PRIMARY KEY AUTOINCREMENT,\n",
    "    sentence1 TEXT NOT NULL,\n",
    "    sentence2 TEXT NOT NULL,\n",
    "    similar_score REAL NOT NULL,\n",
    "    sen1_vector BLOB,\n",
    "    sen2_vector BLOB,\n",
    "    vecSim_score REAL\n",
    ")\n",
    "''')\n",
    "conn.commit()"
   ]
  },
  {
   "cell_type": "code",
   "execution_count": 4,
   "id": "81bd94e8",
   "metadata": {},
   "outputs": [],
   "source": [
    "with open(DATA_FILE, 'r', encoding='utf-8') as f:\n",
    "    for line in f:\n",
    "        parts = line.strip().split('\\t')\n",
    "        if len(parts) != 3:\n",
    "            continue\n",
    "        sentence1, sentence2, score = parts\n",
    "        cursor.execute('''\n",
    "            INSERT INTO sentence (sentence1, sentence2, similar_score)\n",
    "            VALUES (?, ?, ?)\n",
    "        ''', (sentence1, sentence2, float(score)))"
   ]
  },
  {
   "cell_type": "code",
   "execution_count": 7,
   "id": "60ae24ae",
   "metadata": {},
   "outputs": [
    {
     "name": "stdout",
     "output_type": "stream",
     "text": [
      "   sid          sentence1                  sentence2  similar_score  \\\n",
      "0    1          一架飞机要起飞了。                  一架飞机正在起飞。            5.0   \n",
      "1    2       一个男人在吹一支大笛子。                   一个人在吹长笛。            3.0   \n",
      "2    3  一个人正把切碎的奶酪撒在比萨饼上。  一个男人正在把切碎的奶酪撒在一块未煮好的比萨饼上。            3.0   \n",
      "3    4            三个人在下棋。                    两个人在下棋。            2.0   \n",
      "4    5          一个人在拉大提琴。              一个坐着的人正在拉大提琴。            4.0   \n",
      "5    6            有些人在战斗。                    两个人在打架。            4.0   \n",
      "6    7           一个男人在抽烟。                   一个男人在滑冰。            0.0   \n",
      "7    8            那人在弹钢琴。                    那人在弹吉他。            1.0   \n",
      "8    9       一个男人在弹吉他和唱歌。        一位女士正在弹着一把原声吉他，唱着歌。            2.0   \n",
      "9   10    一个人正把一只猫扔到天花板上。             一个人把一只猫扔在天花板上。            5.0   \n",
      "\n",
      "  sen1_vector sen2_vector vecSim_score  \n",
      "0        None        None         None  \n",
      "1        None        None         None  \n",
      "2        None        None         None  \n",
      "3        None        None         None  \n",
      "4        None        None         None  \n",
      "5        None        None         None  \n",
      "6        None        None         None  \n",
      "7        None        None         None  \n",
      "8        None        None         None  \n",
      "9        None        None         None  \n"
     ]
    }
   ],
   "source": [
    "df = pd.read_sql_query(\"\"\"\n",
    "    SELECT sid, sentence1, sentence2, similar_score, sen1_vector, sen2_vector,vecSim_score FROM sentence\n",
    "\"\"\", conn)\n",
    "print(df.head(10))"
   ]
  },
  {
   "cell_type": "markdown",
   "id": "d1be917c",
   "metadata": {},
   "source": [
    "## 提示：一些可能的嵌入向量的方式：\n",
    "\n",
    "### 1.安装 sqlite-vss（基于 FAISS）\n",
    "\n",
    "```python\n",
    "!pip install faiss-cpu\n",
    "!pip install sqlite-vss\n",
    "\n",
    "import sqlite3\n",
    "import sqlite_vss\n",
    "conn = sqlite3.connect(\"sentence.db\")\n",
    "sqlite_vss.load(conn)\n",
    "```\n",
    "### 2.安装sqlite-vec(建议python版本>=3.9)\n",
    "\n",
    "```python\n",
    "!pip install sqlite-vec\n",
    "\n",
    "\n",
    "import sqlite3\n",
    "import sqlite_vec\n",
    "conn = sqlite3.connect(\"sentence.db\")\n",
    "sqlite_vec.load(conn)\n",
    "```\n",
    "\n",
    "### 3. 使用hugging_face等拉取嵌入模型\n",
    "\n",
    "```python\n",
    "!pip install sentence-transformers\n",
    "!pip install torch\n",
    "\n",
    "model = HuggingFaceEmbeddings('YOU MODEL PATH')\n",
    "```\n"
   ]
  }
 ],
 "metadata": {
  "kernelspec": {
   "display_name": "base",
   "language": "python",
   "name": "python3"
  },
  "language_info": {
   "codemirror_mode": {
    "name": "ipython",
    "version": 3
   },
   "file_extension": ".py",
   "mimetype": "text/x-python",
   "name": "python",
   "nbconvert_exporter": "python",
   "pygments_lexer": "ipython3",
   "version": "3.9.20"
  }
 },
 "nbformat": 4,
 "nbformat_minor": 5
}
