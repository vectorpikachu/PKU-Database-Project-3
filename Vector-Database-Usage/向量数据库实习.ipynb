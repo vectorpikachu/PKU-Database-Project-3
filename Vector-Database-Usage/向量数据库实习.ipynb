{
 "cells": [
  {
   "cell_type": "markdown",
   "id": "3480042b",
   "metadata": {},
   "source": [
    "### 数据库schema：\n",
    "数据库sentence.db schema如下：\n",
    "\n",
    "sentence(sid,sentence1, sentence2, similar_score,sen1_vector,sen2_vector,vecSim_score)\n",
    "\n",
    "分别是句子id，句子1，句子2，句子相似度得分，句子1嵌入向量，句子2嵌入向量，向量相似度得分）\n",
    "\n",
    "### 任务要求：\n",
    "\n",
    "调用嵌入模型：可以使用sqlite-vss或sqlite-vec或调用本地中文嵌入模型（huggingface等拉取），对每个数据库中每个元组的两个句子分别进行向量嵌入，并计算向量相似度得分。更新数据库sentence.db的后三列。\n",
    "\n",
    "### 输出要求：\n",
    "\n",
    "按照这样的方法：\n",
    "\n",
    "```python\n",
    "df = pd.read_sql_query(\"\"\"\n",
    "    SELECT sid, sentence1, sentence2, similar_score, sen1_vector, sen2_vector,vecSim_score FROM sentence\n",
    "\"\"\", conn)\n",
    "print(df.head(20))\n",
    "```\n",
    "输出数据库的前20个元组。但请注意，助教评分时可能会运行你的代码，抽查其他元组结果。"
   ]
  },
  {
   "cell_type": "code",
   "execution_count": 1,
   "id": "c183a864",
   "metadata": {},
   "outputs": [],
   "source": [
    "import sqlite3\n",
    "import os\n",
    "import pandas as pd"
   ]
  },
  {
   "cell_type": "code",
   "execution_count": 2,
   "id": "0297b6ed",
   "metadata": {},
   "outputs": [],
   "source": [
    "# 文件路径修改成自己的文件路径\n",
    "DATA_FILE = 'sts-b-train.txt'\n",
    "DB_FILE = 'sentence.db'\n",
    "\n",
    "if os.path.exists(DB_FILE):\n",
    "    os.remove(DB_FILE)\n",
    "\n",
    "conn = sqlite3.connect(DB_FILE)\n",
    "cursor = conn.cursor()"
   ]
  },
  {
   "cell_type": "code",
   "execution_count": 3,
   "id": "0492109b",
   "metadata": {},
   "outputs": [],
   "source": [
    "cursor.execute('''\n",
    "CREATE TABLE sentence (\n",
    "    sid INTEGER PRIMARY KEY AUTOINCREMENT,\n",
    "    sentence1 TEXT NOT NULL,\n",
    "    sentence2 TEXT NOT NULL,\n",
    "    similar_score REAL NOT NULL,\n",
    "    sen1_vector BLOB,\n",
    "    sen2_vector BLOB,\n",
    "    vecSim_score REAL\n",
    ")\n",
    "''')\n",
    "conn.commit()"
   ]
  },
  {
   "cell_type": "code",
   "execution_count": 4,
   "id": "81bd94e8",
   "metadata": {},
   "outputs": [],
   "source": [
    "with open(DATA_FILE, 'r', encoding='utf-8') as f:\n",
    "    for line in f:\n",
    "        parts = line.strip().split('\\t')\n",
    "        if len(parts) != 3:\n",
    "            continue\n",
    "        sentence1, sentence2, score = parts\n",
    "        cursor.execute('''\n",
    "            INSERT INTO sentence (sentence1, sentence2, similar_score)\n",
    "            VALUES (?, ?, ?)\n",
    "        ''', (sentence1, sentence2, float(score)))\n",
    "conn.commit()"
   ]
  },
  {
   "cell_type": "code",
   "execution_count": 5,
   "id": "60ae24ae",
   "metadata": {},
   "outputs": [
    {
     "name": "stdout",
     "output_type": "stream",
     "text": [
      "   sid          sentence1                  sentence2  similar_score  \\\n",
      "0    1          一架飞机要起飞了。                  一架飞机正在起飞。            5.0   \n",
      "1    2       一个男人在吹一支大笛子。                   一个人在吹长笛。            3.0   \n",
      "2    3  一个人正把切碎的奶酪撒在比萨饼上。  一个男人正在把切碎的奶酪撒在一块未煮好的比萨饼上。            3.0   \n",
      "3    4            三个人在下棋。                    两个人在下棋。            2.0   \n",
      "4    5          一个人在拉大提琴。              一个坐着的人正在拉大提琴。            4.0   \n",
      "5    6            有些人在战斗。                    两个人在打架。            4.0   \n",
      "6    7           一个男人在抽烟。                   一个男人在滑冰。            0.0   \n",
      "7    8            那人在弹钢琴。                    那人在弹吉他。            1.0   \n",
      "8    9       一个男人在弹吉他和唱歌。        一位女士正在弹着一把原声吉他，唱着歌。            2.0   \n",
      "9   10    一个人正把一只猫扔到天花板上。             一个人把一只猫扔在天花板上。            5.0   \n",
      "\n",
      "  sen1_vector sen2_vector vecSim_score  \n",
      "0        None        None         None  \n",
      "1        None        None         None  \n",
      "2        None        None         None  \n",
      "3        None        None         None  \n",
      "4        None        None         None  \n",
      "5        None        None         None  \n",
      "6        None        None         None  \n",
      "7        None        None         None  \n",
      "8        None        None         None  \n",
      "9        None        None         None  \n"
     ]
    }
   ],
   "source": [
    "df = pd.read_sql_query(\"\"\"\n",
    "    SELECT sid, sentence1, sentence2, similar_score, sen1_vector, sen2_vector,vecSim_score FROM sentence\n",
    "\"\"\", conn)\n",
    "print(df.head(10))"
   ]
  },
  {
   "cell_type": "code",
   "execution_count": 6,
   "id": "9e9a4dd5",
   "metadata": {},
   "outputs": [
    {
     "name": "stdout",
     "output_type": "stream",
     "text": [
      "Requirement already satisfied: python-dotenv in c:\\users\\平面向皮卡丘\\appdata\\local\\programs\\python\\python312\\lib\\site-packages (1.0.1)\n",
      "Note: you may need to restart the kernel to use updated packages.\n"
     ]
    },
    {
     "name": "stderr",
     "output_type": "stream",
     "text": [
      "\n",
      "[notice] A new release of pip is available: 24.0 -> 25.1.1\n",
      "[notice] To update, run: python.exe -m pip install --upgrade pip\n"
     ]
    }
   ],
   "source": [
    "%pip install python-dotenv"
   ]
  },
  {
   "cell_type": "code",
   "execution_count": 7,
   "id": "c20496c0",
   "metadata": {},
   "outputs": [
    {
     "name": "stdout",
     "output_type": "stream",
     "text": [
      "Requirement already satisfied: sqlite-vec in c:\\users\\平面向皮卡丘\\appdata\\local\\programs\\python\\python312\\lib\\site-packages (0.1.6)\n",
      "Note: you may need to restart the kernel to use updated packages.\n"
     ]
    },
    {
     "name": "stderr",
     "output_type": "stream",
     "text": [
      "\n",
      "[notice] A new release of pip is available: 24.0 -> 25.1.1\n",
      "[notice] To update, run: python.exe -m pip install --upgrade pip\n"
     ]
    }
   ],
   "source": [
    "%pip install sqlite-vec"
   ]
  },
  {
   "cell_type": "code",
   "execution_count": 8,
   "id": "23e46df9",
   "metadata": {},
   "outputs": [
    {
     "name": "stdout",
     "output_type": "stream",
     "text": [
      "Requirement already satisfied: sqlite-rembed in c:\\users\\平面向皮卡丘\\appdata\\local\\programs\\python\\python312\\lib\\site-packages (0.0.1a9)\n",
      "Note: you may need to restart the kernel to use updated packages.\n"
     ]
    },
    {
     "name": "stderr",
     "output_type": "stream",
     "text": [
      "\n",
      "[notice] A new release of pip is available: 24.0 -> 25.1.1\n",
      "[notice] To update, run: python.exe -m pip install --upgrade pip\n"
     ]
    }
   ],
   "source": [
    "%pip install sqlite-rembed"
   ]
  },
  {
   "cell_type": "code",
   "execution_count": 9,
   "id": "d6b95ca8",
   "metadata": {},
   "outputs": [],
   "source": [
    "import sqlite3\n",
    "import sqlite_vec\n",
    "import sqlite_rembed\n",
    "conn = sqlite3.connect(\"sentence.db\")\n",
    "conn.enable_load_extension(True)\n",
    "sqlite_vec.load(conn)\n",
    "sqlite_rembed.load(conn)\n",
    "conn.enable_load_extension(False)"
   ]
  },
  {
   "cell_type": "code",
   "execution_count": 10,
   "id": "5baf9c0d",
   "metadata": {},
   "outputs": [
    {
     "data": {
      "text/plain": [
       "True"
      ]
     },
     "execution_count": 10,
     "metadata": {},
     "output_type": "execute_result"
    }
   ],
   "source": [
    "# 请在.env里设置好DASHCOPE_API_KEY\n",
    "from dotenv import load_dotenv\n",
    "load_dotenv()  # 默认读取当前目录下的 .env 文件"
   ]
  },
  {
   "cell_type": "code",
   "execution_count": 17,
   "id": "05b1281b",
   "metadata": {},
   "outputs": [],
   "source": [
    "if os.getenv(\"OPENAI_API_KEY\") is None:\n",
    "    print(\"Wrong!\")\n",
    "conn.execute(\"\"\"\n",
    "    INSERT INTO temp.rembed_clients(name, options)\n",
    "    VALUES (\n",
    "      'text-embedding-3-small',\n",
    "      rembed_client_options(\n",
    "        'format', 'openai',\n",
    "        'model', 'text-embedding-3-small',\n",
    "        'url', 'https://api.openai-proxy.org/v1/embeddings',\n",
    "        'key', :api_key\n",
    "      )\n",
    "    );\n",
    "    \"\"\", {\"api_key\": os.getenv(\"OPENAI_API_KEY\")})\n",
    "conn.commit()"
   ]
  },
  {
   "cell_type": "code",
   "execution_count": null,
   "id": "183a6a16",
   "metadata": {},
   "outputs": [
    {
     "ename": "OperationalError",
     "evalue": "Error sending HTTP request: https://api.openai-proxy.org/v1/embeddings: status code 504",
     "output_type": "error",
     "traceback": [
      "\u001b[1;31m---------------------------------------------------------------------------\u001b[0m",
      "\u001b[1;31mOperationalError\u001b[0m                          Traceback (most recent call last)",
      "Cell \u001b[1;32mIn[12], line 2\u001b[0m\n\u001b[0;32m      1\u001b[0m cur \u001b[38;5;241m=\u001b[39m conn\u001b[38;5;241m.\u001b[39mcursor()\n\u001b[1;32m----> 2\u001b[0m \u001b[43mcur\u001b[49m\u001b[38;5;241;43m.\u001b[39;49m\u001b[43mexecute\u001b[49m\u001b[43m(\u001b[49m\u001b[38;5;124;43m\"\"\"\u001b[39;49m\n\u001b[0;32m      3\u001b[0m \u001b[38;5;124;43m        UPDATE sentence\u001b[39;49m\n\u001b[0;32m      4\u001b[0m \u001b[38;5;124;43m        SET\u001b[39;49m\n\u001b[0;32m      5\u001b[0m \u001b[38;5;124;43m          sen1_vector = rembed(\u001b[39;49m\u001b[38;5;124;43m'\u001b[39;49m\u001b[38;5;124;43mtext-embedding-3-small\u001b[39;49m\u001b[38;5;124;43m'\u001b[39;49m\u001b[38;5;124;43m, sentence1),\u001b[39;49m\n\u001b[0;32m      6\u001b[0m \u001b[38;5;124;43m          sen2_vector = rembed(\u001b[39;49m\u001b[38;5;124;43m'\u001b[39;49m\u001b[38;5;124;43mtext-embedding-3-small\u001b[39;49m\u001b[38;5;124;43m'\u001b[39;49m\u001b[38;5;124;43m, sentence2);\u001b[39;49m\n\u001b[0;32m      7\u001b[0m \u001b[38;5;124;43m    \u001b[39;49m\u001b[38;5;124;43m\"\"\"\u001b[39;49m\u001b[43m)\u001b[49m  \u001b[38;5;66;03m# rembed() 来自 sqlite-rembed 扩展 \u001b[39;00m\n\u001b[0;32m      8\u001b[0m conn\u001b[38;5;241m.\u001b[39mcommit()\n",
      "\u001b[1;31mOperationalError\u001b[0m: Error sending HTTP request: https://api.openai-proxy.org/v1/embeddings: status code 504"
     ]
    }
   ],
   "source": [
    "cursor = conn.cursor()\n",
    "cursor.execute(\"\"\"\n",
    "    UPDATE sentence\n",
    "    SET\n",
    "      sen1_vector = rembed('text-embedding-3-small', sentence1),\n",
    "      sen2_vector = rembed('text-embedding-3-small', sentence2);\n",
    "\"\"\")  # rembed() 来自 sqlite-rembed 扩展 \n",
    "conn.commit()"
   ]
  },
  {
   "cell_type": "code",
   "execution_count": null,
   "id": "f330ca39",
   "metadata": {},
   "outputs": [
    {
     "ename": "OperationalError",
     "evalue": "no such table: sentences",
     "output_type": "error",
     "traceback": [
      "\u001b[1;31m---------------------------------------------------------------------------\u001b[0m",
      "\u001b[1;31mOperationalError\u001b[0m                          Traceback (most recent call last)",
      "Cell \u001b[1;32mIn[14], line 2\u001b[0m\n\u001b[0;32m      1\u001b[0m \u001b[38;5;66;03m# 计算余弦相似度\u001b[39;00m\n\u001b[1;32m----> 2\u001b[0m \u001b[43mcur\u001b[49m\u001b[38;5;241;43m.\u001b[39;49m\u001b[43mexecute\u001b[49m\u001b[43m(\u001b[49m\u001b[38;5;124;43m\"\"\"\u001b[39;49m\n\u001b[0;32m      3\u001b[0m \u001b[38;5;124;43m    UPDATE sentences\u001b[39;49m\n\u001b[0;32m      4\u001b[0m \u001b[38;5;124;43m    SET vecSim_score = 1.0 - vec_distance_cosine(sen1_vector, sen2_vector);\u001b[39;49m\n\u001b[0;32m      5\u001b[0m \u001b[38;5;124;43m\"\"\"\u001b[39;49m\u001b[43m)\u001b[49m\n\u001b[0;32m      6\u001b[0m conn\u001b[38;5;241m.\u001b[39mcommit()\n",
      "\u001b[1;31mOperationalError\u001b[0m: no such table: sentences"
     ]
    }
   ],
   "source": [
    "# 计算余弦相似度\n",
    "cursor.execute(\"\"\"\n",
    "    UPDATE sentences\n",
    "    SET vecSim_score = 1.0 - vec_distance_cosine(sen1_vector, sen2_vector);\n",
    "\"\"\")\n",
    "conn.commit()"
   ]
  },
  {
   "cell_type": "code",
   "execution_count": 15,
   "id": "8455301b",
   "metadata": {},
   "outputs": [
    {
     "name": "stdout",
     "output_type": "stream",
     "text": [
      "    sid           sentence1                  sentence2  similar_score  \\\n",
      "0     1           一架飞机要起飞了。                  一架飞机正在起飞。            5.0   \n",
      "1     2        一个男人在吹一支大笛子。                   一个人在吹长笛。            3.0   \n",
      "2     3   一个人正把切碎的奶酪撒在比萨饼上。  一个男人正在把切碎的奶酪撒在一块未煮好的比萨饼上。            3.0   \n",
      "3     4             三个人在下棋。                    两个人在下棋。            2.0   \n",
      "4     5           一个人在拉大提琴。              一个坐着的人正在拉大提琴。            4.0   \n",
      "5     6             有些人在战斗。                    两个人在打架。            4.0   \n",
      "6     7            一个男人在抽烟。                   一个男人在滑冰。            0.0   \n",
      "7     8             那人在弹钢琴。                    那人在弹吉他。            1.0   \n",
      "8     9        一个男人在弹吉他和唱歌。        一位女士正在弹着一把原声吉他，唱着歌。            2.0   \n",
      "9    10     一个人正把一只猫扔到天花板上。             一个人把一只猫扔在天花板上。            5.0   \n",
      "10   11        那人用棍子打了另一个人。            那人用棍子打了另一个人一巴掌。            4.0   \n",
      "11   12            一个人在吹长笛。                  一个男人在吹竹笛。            3.0   \n",
      "12   13           一个人在叠一张纸。                   有人在叠一张纸。            4.0   \n",
      "13   14  一条狗正试图把培根从他的背上弄下来。             一只狗正试图吃它背上的培根。            3.0   \n",
      "14   15          北极熊在雪地上滑行。               一只北极熊在雪地上滑行。            5.0   \n",
      "15   16            一个女人在写作。                   一个女人在游泳。            0.0   \n",
      "16   17        一只猫在婴儿的脸上摩擦。                   一只猫在蹭婴儿。            3.0   \n",
      "17   18              那人在骑马。                    一个人骑着马。            5.0   \n",
      "18   19           一个人往锅里倒油。                 一个人把酒倒进锅里。            3.0   \n",
      "19   20           一个男人在弹吉他。                  一个女孩在弹吉他。            2.0   \n",
      "\n",
      "   sen1_vector sen2_vector vecSim_score  \n",
      "0         None        None         None  \n",
      "1         None        None         None  \n",
      "2         None        None         None  \n",
      "3         None        None         None  \n",
      "4         None        None         None  \n",
      "5         None        None         None  \n",
      "6         None        None         None  \n",
      "7         None        None         None  \n",
      "8         None        None         None  \n",
      "9         None        None         None  \n",
      "10        None        None         None  \n",
      "11        None        None         None  \n",
      "12        None        None         None  \n",
      "13        None        None         None  \n",
      "14        None        None         None  \n",
      "15        None        None         None  \n",
      "16        None        None         None  \n",
      "17        None        None         None  \n",
      "18        None        None         None  \n",
      "19        None        None         None  \n"
     ]
    }
   ],
   "source": [
    "df = pd.read_sql_query(\"\"\"\n",
    "    SELECT sid, sentence1, sentence2, similar_score, sen1_vector, sen2_vector,vecSim_score FROM sentence\n",
    "\"\"\", conn)\n",
    "print(df.head(20))"
   ]
  },
  {
   "cell_type": "code",
   "execution_count": null,
   "id": "c18dbd5b",
   "metadata": {},
   "outputs": [],
   "source": [
    "conn.close()"
   ]
  },
  {
   "cell_type": "markdown",
   "id": "d1be917c",
   "metadata": {},
   "source": [
    "## 提示：一些可能的嵌入向量的方式：\n",
    "\n",
    "### 1.安装 sqlite-vss（基于 FAISS）\n",
    "\n",
    "```python\n",
    "!pip install faiss-cpu\n",
    "!pip install sqlite-vss\n",
    "\n",
    "import sqlite3\n",
    "import sqlite_vss\n",
    "conn = sqlite3.connect(\"sentence.db\")\n",
    "sqlite_vss.load(conn)\n",
    "```\n",
    "### 2.安装sqlite-vec(建议python版本>=3.9)\n",
    "\n",
    "```python\n",
    "!pip install sqlite-vec\n",
    "\n",
    "\n",
    "import sqlite3\n",
    "import sqlite_vec\n",
    "conn = sqlite3.connect(\"sentence.db\")\n",
    "sqlite_vec.load(conn)\n",
    "```\n",
    "\n",
    "### 3. 使用hugging_face等拉取嵌入模型\n",
    "\n",
    "```python\n",
    "!pip install sentence-transformers\n",
    "!pip install torch\n",
    "\n",
    "model = HuggingFaceEmbeddings('YOU MODEL PATH')\n",
    "```\n"
   ]
  }
 ],
 "metadata": {
  "kernelspec": {
   "display_name": "Python 3",
   "language": "python",
   "name": "python3"
  },
  "language_info": {
   "codemirror_mode": {
    "name": "ipython",
    "version": 3
   },
   "file_extension": ".py",
   "mimetype": "text/x-python",
   "name": "python",
   "nbconvert_exporter": "python",
   "pygments_lexer": "ipython3",
   "version": "3.12.2"
  }
 },
 "nbformat": 4,
 "nbformat_minor": 5
}
